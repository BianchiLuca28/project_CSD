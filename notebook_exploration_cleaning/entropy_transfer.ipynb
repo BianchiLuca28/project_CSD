{
  "nbformat": 4,
  "nbformat_minor": 0,
  "metadata": {
    "colab": {
      "provenance": [],
      "authorship_tag": "ABX9TyML3YkZepLbf45VLNhy3+4O",
      "include_colab_link": true
    },
    "kernelspec": {
      "name": "python3",
      "display_name": "Python 3"
    },
    "language_info": {
      "name": "python"
    }
  },
  "cells": [
    {
      "cell_type": "markdown",
      "metadata": {
        "id": "view-in-github",
        "colab_type": "text"
      },
      "source": [
        "<a href=\"https://colab.research.google.com/github/Meguazy/project_CSD/blob/main/notebook_exploration_cleaning/entropy_transfer.ipynb\" target=\"_parent\"><img src=\"https://colab.research.google.com/assets/colab-badge.svg\" alt=\"Open In Colab\"/></a>"
      ]
    },
    {
      "cell_type": "code",
      "source": [
        "from google.colab import drive\n",
        "drive.mount('/content/drive')"
      ],
      "metadata": {
        "id": "a3Tq5gupAhT9"
      },
      "execution_count": null,
      "outputs": []
    },
    {
      "cell_type": "code",
      "source": [
        "# Extract accelerometer columns\n",
        "accelerometer_columns = [\n",
        "    'Board1Acc1', 'Board1Acc2', 'Board1Acc3',\n",
        "    'Board2Acc1', 'Board2Acc2', 'Board2Acc3',\n",
        "    'Board3Acc1', 'Board3Acc2', 'Board3Acc3',\n",
        "]"
      ],
      "metadata": {
        "id": "9GukeN7OaCLd"
      },
      "execution_count": 12,
      "outputs": []
    },
    {
      "cell_type": "markdown",
      "source": [
        "# Transfer Entropy with standard scaler"
      ],
      "metadata": {
        "id": "cxG6H0sHe6NV"
      }
    },
    {
      "cell_type": "code",
      "source": [
        "%cd \"/content/drive/MyDrive/Schnell_Traino_Project_CSD/NewData/NormalizedData/StandardScaler\""
      ],
      "metadata": {
        "id": "rwVhqBbNAqSG"
      },
      "execution_count": null,
      "outputs": []
    },
    {
      "cell_type": "code",
      "source": [
        "import pandas as pd\n",
        "from scipy.stats import entropy\n",
        "from itertools import combinations\n",
        "import numpy as np"
      ],
      "metadata": {
        "id": "M7l16lOaBCC5"
      },
      "execution_count": 37,
      "outputs": []
    },
    {
      "cell_type": "code",
      "source": [
        "no_guasto_df = pd.read_csv(\"NO_GUASTO.csv\")"
      ],
      "metadata": {
        "id": "_Ynyd1WQBHE1"
      },
      "execution_count": 38,
      "outputs": []
    },
    {
      "cell_type": "code",
      "source": [
        "guasto_df = pd.read_csv(\"RUOTA_GUASTA.csv\")"
      ],
      "metadata": {
        "id": "T3D35Jt-BXaN"
      },
      "execution_count": 39,
      "outputs": []
    },
    {
      "cell_type": "code",
      "source": [
        "no_guasto_df.info()"
      ],
      "metadata": {
        "id": "J7ewTXGJCXch"
      },
      "execution_count": null,
      "outputs": []
    },
    {
      "cell_type": "code",
      "source": [
        "guasto_df.info()"
      ],
      "metadata": {
        "id": "jjtuYFh_GWX-"
      },
      "execution_count": null,
      "outputs": []
    },
    {
      "cell_type": "markdown",
      "source": [
        "anomalies dataset"
      ],
      "metadata": {
        "id": "2UOvWQwxf5JV"
      }
    },
    {
      "cell_type": "code",
      "source": [
        "# Create all combinations of accelerometers\n",
        "accelerometer_combinations = list(combinations(accelerometer_columns, 2))\n",
        "\n",
        "# Calculate entropy transfer for each accelerometer combination\n",
        "for acc_combination in accelerometer_combinations:\n",
        "    x_acc, y_acc = acc_combination\n",
        "    entropy_values_xy = []\n",
        "    entropy_values_yx = []\n",
        "\n",
        "    for acquisition_number, group in no_guasto_df.groupby('Acquisition_Number'):\n",
        "        entropy_xy = entropy(group[x_acc], group[y_acc])\n",
        "        entropy_yx = entropy(group[y_acc], group[x_acc])\n",
        "\n",
        "        # Check if entropy is a valid number (not -inf)\n",
        "        if not np.isinf(entropy_xy):\n",
        "            entropy_values_xy.append(entropy_xy)\n",
        "        if not np.isinf(entropy_yx):\n",
        "            entropy_values_yx.append(entropy_yx)\n",
        "\n",
        "    # Display or store the entropy values for each accelerometer combination\n",
        "    print(f\"Entropy transfer from {x_acc} to {y_acc}:\")\n",
        "    print(f\"Mean Entropy (X to Y): {np.mean(entropy_values_xy)}\")\n",
        "    print(f\"Mean Entropy (Y to X): {np.mean(entropy_values_yx)}\")\n",
        "    print(\"\\n\")"
      ],
      "metadata": {
        "id": "u8LHG2TrbdDU"
      },
      "execution_count": null,
      "outputs": []
    },
    {
      "cell_type": "markdown",
      "source": [
        "dataset without anomalies"
      ],
      "metadata": {
        "id": "OfsDAjvKf65C"
      }
    },
    {
      "cell_type": "code",
      "source": [
        "# Create all combinations of accelerometers\n",
        "accelerometer_combinations = list(combinations(accelerometer_columns, 2))\n",
        "\n",
        "# Calculate entropy transfer for each accelerometer combination\n",
        "for acc_combination in accelerometer_combinations:\n",
        "    x_acc, y_acc = acc_combination\n",
        "    entropy_values_xy = []\n",
        "    entropy_values_yx = []\n",
        "\n",
        "    for acquisition_number, group in guasto_df.groupby('Acquisition_Number'):\n",
        "        entropy_xy = entropy(group[x_acc], group[y_acc])\n",
        "        entropy_yx = entropy(group[y_acc], group[x_acc])\n",
        "\n",
        "        # Check if entropy is a valid number (not -inf)\n",
        "        if not np.isinf(entropy_xy):\n",
        "            entropy_values_xy.append(entropy_xy)\n",
        "        if not np.isinf(entropy_yx):\n",
        "            entropy_values_yx.append(entropy_yx)\n",
        "\n",
        "    # Display or store the entropy values for each accelerometer combination\n",
        "    print(f\"Entropy transfer from {x_acc} to {y_acc}:\")\n",
        "    print(f\"Mean Entropy (X to Y): {np.mean(entropy_values_xy)}\")\n",
        "    print(f\"Mean Entropy (Y to X): {np.mean(entropy_values_yx)}\")\n",
        "    print(\"\\n\")"
      ],
      "metadata": {
        "id": "xcIgHYOpf-Xe"
      },
      "execution_count": null,
      "outputs": []
    },
    {
      "cell_type": "markdown",
      "source": [
        "# Transfer Entropy with min max scaler"
      ],
      "metadata": {
        "id": "Ljhw_Ilhe_N-"
      }
    },
    {
      "cell_type": "code",
      "source": [
        "%cd \"/content/drive/MyDrive/Schnell_Traino_Project_CSD/NewData/NormalizedData/MinMaxScaler\""
      ],
      "metadata": {
        "id": "y1n4P8KReS0r"
      },
      "execution_count": null,
      "outputs": []
    },
    {
      "cell_type": "code",
      "source": [
        "no_guasto_df = pd.read_csv(\"NO_GUASTO.csv\")"
      ],
      "metadata": {
        "id": "1s1lek-uet16"
      },
      "execution_count": 27,
      "outputs": []
    },
    {
      "cell_type": "code",
      "source": [
        "guasto_df = pd.read_csv(\"RUOTA_GUASTA.csv\")"
      ],
      "metadata": {
        "id": "3nOuHp6cet17"
      },
      "execution_count": 28,
      "outputs": []
    },
    {
      "cell_type": "code",
      "source": [
        "no_guasto_df.info()"
      ],
      "metadata": {
        "id": "tuOKIUUifVY-"
      },
      "execution_count": null,
      "outputs": []
    },
    {
      "cell_type": "markdown",
      "source": [
        "Anomalies dataset"
      ],
      "metadata": {
        "id": "Fw0Oa54igcxu"
      }
    },
    {
      "cell_type": "code",
      "source": [
        "# Create all combinations of accelerometers\n",
        "accelerometer_combinations = list(combinations(accelerometer_columns, 2))\n",
        "\n",
        "# Calculate entropy transfer for each accelerometer combination\n",
        "for acc_combination in accelerometer_combinations:\n",
        "    x_acc, y_acc = acc_combination\n",
        "    entropy_values_xy = []\n",
        "    entropy_values_yx = []\n",
        "\n",
        "    for acquisition_number, group in guasto_df.groupby('Acquisition_Number'):\n",
        "        entropy_xy = entropy(group[x_acc], group[y_acc])\n",
        "        entropy_yx = entropy(group[y_acc], group[x_acc])\n",
        "\n",
        "        # Check if entropy is a valid number (not -inf)\n",
        "        if not np.isinf(entropy_xy):\n",
        "            entropy_values_xy.append(entropy_xy)\n",
        "        if not np.isinf(entropy_yx):\n",
        "            entropy_values_yx.append(entropy_yx)\n",
        "\n",
        "    # Display or store the entropy values for each accelerometer combination\n",
        "    print(f\"Entropy transfer from {x_acc} to {y_acc}:\")\n",
        "    print(f\"Mean Entropy (X to Y): {np.mean(entropy_values_xy)}\")\n",
        "    print(f\"Mean Entropy (Y to X): {np.mean(entropy_values_yx)}\")\n",
        "    print(\"\\n\")"
      ],
      "metadata": {
        "id": "etktPF05fhDj"
      },
      "execution_count": null,
      "outputs": []
    },
    {
      "cell_type": "markdown",
      "source": [
        "Dataset without anomalies"
      ],
      "metadata": {
        "id": "o9GuMOKtgesE"
      }
    },
    {
      "cell_type": "code",
      "source": [
        "# Create all combinations of accelerometers\n",
        "accelerometer_combinations = list(combinations(accelerometer_columns, 2))\n",
        "\n",
        "# Calculate entropy transfer for each accelerometer combination\n",
        "for acc_combination in accelerometer_combinations:\n",
        "    x_acc, y_acc = acc_combination\n",
        "    entropy_values_xy = []\n",
        "    entropy_values_yx = []\n",
        "\n",
        "    for acquisition_number, group in no_guasto_df.groupby('Acquisition_Number'):\n",
        "        entropy_xy = entropy(group[x_acc], group[y_acc])\n",
        "        entropy_yx = entropy(group[y_acc], group[x_acc])\n",
        "\n",
        "        # Check if entropy is a valid number (not -inf)\n",
        "        if not np.isinf(entropy_xy):\n",
        "            entropy_values_xy.append(entropy_xy)\n",
        "        if not np.isinf(entropy_yx):\n",
        "            entropy_values_yx.append(entropy_yx)\n",
        "\n",
        "    # Display or store the entropy values for each accelerometer combination\n",
        "    print(f\"Entropy transfer from {x_acc} to {y_acc}:\")\n",
        "    print(f\"Mean Entropy (X to Y): {np.mean(entropy_values_xy)}\")\n",
        "    print(f\"Mean Entropy (Y to X): {np.mean(entropy_values_yx)}\")\n",
        "    print(\"\\n\")"
      ],
      "metadata": {
        "id": "9bD3ELqSfq7T"
      },
      "execution_count": null,
      "outputs": []
    }
  ]
}