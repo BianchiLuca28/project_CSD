{
  "nbformat": 4,
  "nbformat_minor": 0,
  "metadata": {
    "colab": {
      "provenance": [],
      "authorship_tag": "ABX9TyOgpvxTq2TU4VKvKQ7RCUp6",
      "include_colab_link": true
    },
    "kernelspec": {
      "name": "python3",
      "display_name": "Python 3"
    },
    "language_info": {
      "name": "python"
    }
  },
  "cells": [
    {
      "cell_type": "markdown",
      "metadata": {
        "id": "view-in-github",
        "colab_type": "text"
      },
      "source": [
        "<a href=\"https://colab.research.google.com/github/Meguazy/project_CSD/blob/main/notebook_exploration_cleaning/entropy_transfer.ipynb\" target=\"_parent\"><img src=\"https://colab.research.google.com/assets/colab-badge.svg\" alt=\"Open In Colab\"/></a>"
      ]
    },
    {
      "cell_type": "code",
      "source": [
        "from google.colab import drive\n",
        "drive.mount('/content/drive')"
      ],
      "metadata": {
        "id": "a3Tq5gupAhT9",
        "outputId": "f8e9748d-3954-4d11-9d61-6e53205255a6",
        "colab": {
          "base_uri": "https://localhost:8080/"
        }
      },
      "execution_count": 1,
      "outputs": [
        {
          "output_type": "stream",
          "name": "stdout",
          "text": [
            "Mounted at /content/drive\n"
          ]
        }
      ]
    },
    {
      "cell_type": "code",
      "source": [
        "# Extract accelerometer columns\n",
        "accelerometer_columns = [\n",
        "    'Board1Acc1', 'Board1Acc2', 'Board1Acc3',\n",
        "    'Board2Acc1', 'Board2Acc2', 'Board2Acc3',\n",
        "    'Board3Acc1', 'Board3Acc2', 'Board3Acc3',\n",
        "]"
      ],
      "metadata": {
        "id": "9GukeN7OaCLd"
      },
      "execution_count": 2,
      "outputs": []
    },
    {
      "cell_type": "markdown",
      "source": [
        "# Transfer Entropy with standard scaler"
      ],
      "metadata": {
        "id": "cxG6H0sHe6NV"
      }
    },
    {
      "cell_type": "code",
      "source": [
        "%cd \"/content/drive/MyDrive/Schnell_Traino_Project_CSD/NewData/NormalizedData/StandardScaler\""
      ],
      "metadata": {
        "id": "rwVhqBbNAqSG",
        "outputId": "2dfd353a-121c-459e-b2e4-cee158f4b782",
        "colab": {
          "base_uri": "https://localhost:8080/"
        }
      },
      "execution_count": 3,
      "outputs": [
        {
          "output_type": "stream",
          "name": "stdout",
          "text": [
            "/content/drive/.shortcut-targets-by-id/12FAw9_zBXB7B9mcacT0QJ8gtv4AWA51n/Schnell_Traino_Project_CSD/NewData/NormalizedData/StandardScaler\n"
          ]
        }
      ]
    },
    {
      "cell_type": "code",
      "source": [
        "import pandas as pd\n",
        "from scipy.stats import entropy\n",
        "from itertools import combinations\n",
        "import numpy as np"
      ],
      "metadata": {
        "id": "M7l16lOaBCC5"
      },
      "execution_count": 4,
      "outputs": []
    },
    {
      "cell_type": "code",
      "source": [
        "no_guasto_df = pd.read_csv(\"NO_GUASTO.csv\")"
      ],
      "metadata": {
        "id": "_Ynyd1WQBHE1"
      },
      "execution_count": 9,
      "outputs": []
    },
    {
      "cell_type": "code",
      "source": [
        "guasto_df = pd.read_csv(\"RUOTA_GUASTA.csv\")"
      ],
      "metadata": {
        "id": "T3D35Jt-BXaN"
      },
      "execution_count": 5,
      "outputs": []
    },
    {
      "cell_type": "code",
      "source": [
        "no_guasto_df.info()"
      ],
      "metadata": {
        "id": "J7ewTXGJCXch"
      },
      "execution_count": null,
      "outputs": []
    },
    {
      "cell_type": "code",
      "source": [
        "guasto_df.info()"
      ],
      "metadata": {
        "id": "jjtuYFh_GWX-"
      },
      "execution_count": null,
      "outputs": []
    },
    {
      "cell_type": "code",
      "source": [
        "!pip install nolds\n",
        "\n",
        "import nolds\n",
        "\n",
        "# Filter rows where 'Acquisition_Name' is 132\n",
        "filtered_df = guasto_df[guasto_df['Acquisition_Number'] == 132]\n",
        "\n",
        "time_series = filtered_df['Board1Acc1'].values\n",
        "\n",
        "# Calculate Shannon Entropy\n",
        "shannon_entropy = entropy(time_series)\n",
        "\n",
        "# Calculate Sample Entropy\n",
        "apen_value = nolds.sampen(time_series)\n",
        "\n",
        "print(f\"Shannon Entropy for 'Board1Acc1X': {shannon_entropy}\")\n",
        "print(f\"Approximate Entropy (ApEn) for 'Board1Acc1X': {apen_value}\")\n"
      ],
      "metadata": {
        "id": "9QrskfyVjjKC"
      },
      "execution_count": null,
      "outputs": []
    },
    {
      "cell_type": "markdown",
      "source": [
        "anomalies dataset with Schreiber Entropy"
      ],
      "metadata": {
        "id": "2UOvWQwxf5JV"
      }
    },
    {
      "cell_type": "code",
      "source": [
        "!pip install pyinform\n",
        "import pyinform\n",
        "\n",
        "\n",
        "# Create all combinations of accelerometers\n",
        "accelerometer_combinations = list(combinations(accelerometer_columns, 2))\n",
        "\n",
        "# Calculate transfer entropy for each accelerometer combination\n",
        "for acc_combination in accelerometer_combinations:\n",
        "    x_acc, y_acc = acc_combination\n",
        "    transfer_entropy_values_xy = []\n",
        "    transfer_entropy_values_yx = []\n",
        "\n",
        "    for acquisition_number, group in no_guasto_df.groupby('Acquisition_Number'):\n",
        "        # Calculate Transfer Entropy for X to Y\n",
        "        transfer_entropy_xy = pyinform.transfer_entropy(\n",
        "            group[x_acc].values, group[y_acc].values, k=2)\n",
        "\n",
        "        # Calculate Transfer Entropy for Y to X\n",
        "        transfer_entropy_yx = pyinform.transfer_entropy(\n",
        "            group[y_acc].values, group[x_acc].values, k=2)\n",
        "\n",
        "        # Check if Transfer Entropy is a valid number (not NaN)\n",
        "        if not np.isnan(transfer_entropy_xy):\n",
        "            transfer_entropy_values_xy.append(transfer_entropy_xy)\n",
        "        if not np.isnan(transfer_entropy_yx):\n",
        "            transfer_entropy_values_yx.append(transfer_entropy_yx)\n",
        "\n",
        "    # Calculate mean transfer entropy for X to Y and Y to X\n",
        "    mean_transfer_entropy_xy = np.mean(transfer_entropy_values_xy)\n",
        "    mean_transfer_entropy_yx = np.mean(transfer_entropy_values_yx)\n",
        "\n",
        "    # Display or store the mean transfer entropy for each accelerometer combination\n",
        "    print(f\"Mean Transfer Entropy from {x_acc} to {y_acc}:\")\n",
        "    print(f\"Mean Transfer Entropy (X to Y): {mean_transfer_entropy_xy}\")\n",
        "    print(f\"Mean Transfer Entropy (Y to X): {mean_transfer_entropy_yx}\")\n",
        "    print(\"\\n\")"
      ],
      "metadata": {
        "id": "u8LHG2TrbdDU"
      },
      "execution_count": null,
      "outputs": []
    },
    {
      "cell_type": "markdown",
      "source": [
        "anomalies dataset with Shannon Entropy"
      ],
      "metadata": {
        "id": "mgfAzy-JkkAc"
      }
    },
    {
      "cell_type": "code",
      "source": [
        "# Create all combinations of accelerometers\n",
        "accelerometer_combinations = list(combinations(accelerometer_columns, 2))\n",
        "\n",
        "# Calculate entropy transfer for each accelerometer combination\n",
        "for acc_combination in accelerometer_combinations:\n",
        "    x_acc, y_acc = acc_combination\n",
        "    entropy_values_xy = []\n",
        "    entropy_values_yx = []\n",
        "\n",
        "    for acquisition_number, group in no_guasto_df.groupby('Acquisition_Number'):\n",
        "        entropy_xy = entropy(group[x_acc], group[y_acc])\n",
        "        entropy_yx = entropy(group[y_acc], group[x_acc])\n",
        "\n",
        "        # Check if entropy is a valid number (not -inf)\n",
        "        if not np.isinf(entropy_xy):\n",
        "            entropy_values_xy.append(entropy_xy)\n",
        "        if not np.isinf(entropy_yx):\n",
        "            entropy_values_yx.append(entropy_yx)\n",
        "\n",
        "    # Display or store the entropy values for each accelerometer combination\n",
        "    print(f\"Entropy transfer from {x_acc} to {y_acc}:\")\n",
        "    print(f\"Mean Entropy (X to Y): {np.mean(entropy_values_xy)}\")\n",
        "    print(f\"Mean Entropy (Y to X): {np.mean(entropy_values_yx)}\")\n",
        "    print(\"\\n\")"
      ],
      "metadata": {
        "id": "_PdcaQMdkniz"
      },
      "execution_count": null,
      "outputs": []
    },
    {
      "cell_type": "markdown",
      "source": [
        "dataset without anomalies"
      ],
      "metadata": {
        "id": "OfsDAjvKf65C"
      }
    },
    {
      "cell_type": "code",
      "source": [
        "# Create all combinations of accelerometers\n",
        "accelerometer_combinations = list(combinations(accelerometer_columns, 2))\n",
        "\n",
        "# Calculate entropy transfer for each accelerometer combination\n",
        "for acc_combination in accelerometer_combinations:\n",
        "    x_acc, y_acc = acc_combination\n",
        "    entropy_values_xy = []\n",
        "    entropy_values_yx = []\n",
        "\n",
        "    for acquisition_number, group in guasto_df.groupby('Acquisition_Number'):\n",
        "        entropy_xy = entropy(group[x_acc], group[y_acc])\n",
        "        entropy_yx = entropy(group[y_acc], group[x_acc])\n",
        "\n",
        "        # Check if entropy is a valid number (not -inf)\n",
        "        if not np.isinf(entropy_xy):\n",
        "            entropy_values_xy.append(entropy_xy)\n",
        "        if not np.isinf(entropy_yx):\n",
        "            entropy_values_yx.append(entropy_yx)\n",
        "\n",
        "    # Display or store the entropy values for each accelerometer combination\n",
        "    print(f\"Entropy transfer from {x_acc} to {y_acc}:\")\n",
        "    print(f\"Mean Entropy (X to Y): {np.mean(entropy_values_xy)}\")\n",
        "    print(f\"Mean Entropy (Y to X): {np.mean(entropy_values_yx)}\")\n",
        "    print(\"\\n\")"
      ],
      "metadata": {
        "id": "xcIgHYOpf-Xe"
      },
      "execution_count": null,
      "outputs": []
    },
    {
      "cell_type": "markdown",
      "source": [
        "# Transfer Entropy with min max scaler"
      ],
      "metadata": {
        "id": "Ljhw_Ilhe_N-"
      }
    },
    {
      "cell_type": "code",
      "source": [
        "%cd \"/content/drive/MyDrive/Schnell_Traino_Project_CSD/NewData/NormalizedData/MinMaxScaler\""
      ],
      "metadata": {
        "id": "y1n4P8KReS0r"
      },
      "execution_count": null,
      "outputs": []
    },
    {
      "cell_type": "code",
      "source": [
        "no_guasto_df = pd.read_csv(\"NO_GUASTO.csv\")"
      ],
      "metadata": {
        "id": "1s1lek-uet16"
      },
      "execution_count": null,
      "outputs": []
    },
    {
      "cell_type": "code",
      "source": [
        "guasto_df = pd.read_csv(\"RUOTA_GUASTA.csv\")"
      ],
      "metadata": {
        "id": "3nOuHp6cet17"
      },
      "execution_count": null,
      "outputs": []
    },
    {
      "cell_type": "code",
      "source": [
        "no_guasto_df.info()"
      ],
      "metadata": {
        "id": "tuOKIUUifVY-"
      },
      "execution_count": null,
      "outputs": []
    },
    {
      "cell_type": "markdown",
      "source": [
        "Anomalies dataset"
      ],
      "metadata": {
        "id": "Fw0Oa54igcxu"
      }
    },
    {
      "cell_type": "code",
      "source": [
        "# Create all combinations of accelerometers\n",
        "accelerometer_combinations = list(combinations(accelerometer_columns, 2))\n",
        "\n",
        "# Calculate entropy transfer for each accelerometer combination\n",
        "for acc_combination in accelerometer_combinations:\n",
        "    x_acc, y_acc = acc_combination\n",
        "    entropy_values_xy = []\n",
        "    entropy_values_yx = []\n",
        "\n",
        "    for acquisition_number, group in guasto_df.groupby('Acquisition_Number'):\n",
        "        entropy_xy = entropy(group[x_acc], group[y_acc])\n",
        "        entropy_yx = entropy(group[y_acc], group[x_acc])\n",
        "\n",
        "        # Check if entropy is a valid number (not -inf)\n",
        "        if not np.isinf(entropy_xy):\n",
        "            entropy_values_xy.append(entropy_xy)\n",
        "        if not np.isinf(entropy_yx):\n",
        "            entropy_values_yx.append(entropy_yx)\n",
        "\n",
        "    # Display or store the entropy values for each accelerometer combination\n",
        "    print(f\"Entropy transfer from {x_acc} to {y_acc}:\")\n",
        "    print(f\"Mean Entropy (X to Y): {np.mean(entropy_values_xy)}\")\n",
        "    print(f\"Mean Entropy (Y to X): {np.mean(entropy_values_yx)}\")\n",
        "    print(\"\\n\")"
      ],
      "metadata": {
        "id": "etktPF05fhDj"
      },
      "execution_count": null,
      "outputs": []
    },
    {
      "cell_type": "markdown",
      "source": [
        "Dataset without anomalies"
      ],
      "metadata": {
        "id": "o9GuMOKtgesE"
      }
    },
    {
      "cell_type": "code",
      "source": [
        "# Create all combinations of accelerometers\n",
        "accelerometer_combinations = list(combinations(accelerometer_columns, 2))\n",
        "\n",
        "# Calculate entropy transfer for each accelerometer combination\n",
        "for acc_combination in accelerometer_combinations:\n",
        "    x_acc, y_acc = acc_combination\n",
        "    entropy_values_xy = []\n",
        "    entropy_values_yx = []\n",
        "\n",
        "    for acquisition_number, group in no_guasto_df.groupby('Acquisition_Number'):\n",
        "        entropy_xy = entropy(group[x_acc], group[y_acc])\n",
        "        entropy_yx = entropy(group[y_acc], group[x_acc])\n",
        "\n",
        "        # Check if entropy is a valid number (not -inf)\n",
        "        if not np.isinf(entropy_xy):\n",
        "            entropy_values_xy.append(entropy_xy)\n",
        "        if not np.isinf(entropy_yx):\n",
        "            entropy_values_yx.append(entropy_yx)\n",
        "\n",
        "    # Display or store the entropy values for each accelerometer combination\n",
        "    print(f\"Entropy transfer from {x_acc} to {y_acc}:\")\n",
        "    print(f\"Mean Entropy (X to Y): {np.mean(entropy_values_xy)}\")\n",
        "    print(f\"Mean Entropy (Y to X): {np.mean(entropy_values_yx)}\")\n",
        "    print(\"\\n\")"
      ],
      "metadata": {
        "id": "9bD3ELqSfq7T"
      },
      "execution_count": null,
      "outputs": []
    }
  ]
}